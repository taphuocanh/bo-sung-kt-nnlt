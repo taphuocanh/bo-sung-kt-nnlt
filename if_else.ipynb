{
  "nbformat": 4,
  "nbformat_minor": 0,
  "metadata": {
    "colab": {
      "name": "if-else.ipynb",
      "provenance": [],
      "authorship_tag": "ABX9TyMUDX9rlnGeuHBIrcWitvmT",
      "include_colab_link": true
    },
    "kernelspec": {
      "name": "python3",
      "display_name": "Python 3"
    }
  },
  "cells": [
    {
      "cell_type": "markdown",
      "metadata": {
        "id": "view-in-github",
        "colab_type": "text"
      },
      "source": [
        "<a href=\"https://colab.research.google.com/github/taphuocanh/bo-sung-kt-nnlt/blob/main/if_else.ipynb\" target=\"_parent\"><img src=\"https://colab.research.google.com/assets/colab-badge.svg\" alt=\"Open In Colab\"/></a>"
      ]
    },
    {
      "cell_type": "code",
      "metadata": {
        "id": "Qkc-WOpxB-Fo",
        "outputId": "4c49df4d-1b8e-4eaf-d59d-ed58f8131bb9",
        "colab": {
          "base_uri": "https://localhost:8080/",
          "height": 85
        }
      },
      "source": [
        "# Bài tập câu lệnh if-else\n",
        "\n",
        "import math\n",
        "def giai_phuong_trinh_bac_2():\n",
        "  a = float(input('Nhap he so a '))\n",
        "  b = float(input('Nhap he so b '))\n",
        "  c = float(input('Nhap he so c '))\n",
        "  if (a == 0):\n",
        "    if (b == 0):\n",
        "      if (c == 0):\n",
        "        print('Pt vô số nghiệm')\n",
        "      else:\n",
        "        print('Pt vô nghiệm')\n",
        "    else:\n",
        "      print(f'Pt có 1 nghiệm x = {-1*c/b}')\n",
        "  else:\n",
        "    delta = b**2 - 4*a*c\n",
        "    if (delta < 0):\n",
        "      print('Pt vô nghiệm')\n",
        "    elif (delta == 0):\n",
        "      print(f'Pt có nghiệm kép x1 = x2 = {-1*b/2*a}')\n",
        "    else:\n",
        "      print(f'Pt có 2 nghiệm x1 = {(-1*b + math.sqrt(delta))/(2*a)} và x2 = {(-1*b - math.sqrt(delta))/(2*a)}')\n",
        "giai_phuong_trinh_bac_2()"
      ],
      "execution_count": 1,
      "outputs": [
        {
          "output_type": "stream",
          "text": [
            "Nhap he so a 2\n",
            "Nhap he so b -5\n",
            "Nhap he so c 3\n",
            "Pt có 2 nghiệm x1 = 1.5 và x2 = 1.0\n"
          ],
          "name": "stdout"
        }
      ]
    }
  ]
}