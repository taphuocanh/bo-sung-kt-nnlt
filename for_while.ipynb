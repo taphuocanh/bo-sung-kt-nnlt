{
  "nbformat": 4,
  "nbformat_minor": 0,
  "metadata": {
    "colab": {
      "name": "for-while.ipynb",
      "provenance": [],
      "authorship_tag": "ABX9TyOROyO7UKMOSmfGoC5a8mVQ",
      "include_colab_link": true
    },
    "kernelspec": {
      "name": "python3",
      "display_name": "Python 3"
    }
  },
  "cells": [
    {
      "cell_type": "markdown",
      "metadata": {
        "id": "view-in-github",
        "colab_type": "text"
      },
      "source": [
        "<a href=\"https://colab.research.google.com/github/taphuocanh/bo-sung-kt-nnlt/blob/main/for_while.ipynb\" target=\"_parent\"><img src=\"https://colab.research.google.com/assets/colab-badge.svg\" alt=\"Open In Colab\"/></a>"
      ]
    },
    {
      "cell_type": "code",
      "metadata": {
        "id": "h3Xe_LJ6F_ld",
        "outputId": "7b6e1b71-357b-41c9-d268-c583a4c86727",
        "colab": {
          "base_uri": "https://localhost:8080/",
          "height": 357
        }
      },
      "source": [
        "# Bài 1: Câu lệnh lặp For - While\n",
        "def su_dung_for():\n",
        "  n = int(input('Số lần lặp theo for: '))\n",
        "  for i in range(n):\n",
        "    print(\"Welcome to HUET\\n\")\n",
        "  print(\"Đã xong\")\n",
        "su_dung_for()\n",
        "def su_dung_while():\n",
        "  n = int(input('Số lần lặp theo while: '))\n",
        "  count = 0\n",
        "  while(count < n):\n",
        "    print(\"Welcome to HUET\\n\")\n",
        "    count = count + 1\n",
        "  print(\"Đã xong\")\n",
        "su_dung_while()"
      ],
      "execution_count": 2,
      "outputs": [
        {
          "output_type": "stream",
          "text": [
            "Số lần lặp theo for: 5\n",
            "Welcome to HUET\n",
            "\n",
            "Welcome to HUET\n",
            "\n",
            "Welcome to HUET\n",
            "\n",
            "Welcome to HUET\n",
            "\n",
            "Welcome to HUET\n",
            "\n",
            "Đã xong\n",
            "Số lần lặp theo while: 3\n",
            "Welcome to HUET\n",
            "\n",
            "Welcome to HUET\n",
            "\n",
            "Welcome to HUET\n",
            "\n",
            "Đã xong\n"
          ],
          "name": "stdout"
        }
      ]
    }
  ]
}