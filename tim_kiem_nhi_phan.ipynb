{
  "nbformat": 4,
  "nbformat_minor": 0,
  "metadata": {
    "colab": {
      "name": "tim_kiem_nhi_phan.ipynb",
      "provenance": [],
      "authorship_tag": "ABX9TyMboQqVKtlnWOgkOgN+s30E",
      "include_colab_link": true
    },
    "kernelspec": {
      "name": "python3",
      "display_name": "Python 3"
    }
  },
  "cells": [
    {
      "cell_type": "markdown",
      "metadata": {
        "id": "view-in-github",
        "colab_type": "text"
      },
      "source": [
        "<a href=\"https://colab.research.google.com/github/taphuocanh/bo-sung-kt-nnlt/blob/main/tim_kiem_nhi_phan.ipynb\" target=\"_parent\"><img src=\"https://colab.research.google.com/assets/colab-badge.svg\" alt=\"Open In Colab\"/></a>"
      ]
    },
    {
      "cell_type": "markdown",
      "metadata": {
        "id": "tJIAqhOnVsCm"
      },
      "source": [
        "**Đầu vào:** Các tham số x, v, vi_tri_dau, vi_tri_cuoi\n",
        "\n",
        "**Đầu ra:** Vị trí của số cần tìm hoặc -1 nếu không tìm thấy\n",
        "\n",
        "**Các bước:**\n",
        "\n",
        "> Giả sử danh sách v đã sắp xếp giảm dần\n",
        "\n",
        "1. Xét danh sách v từ vi_tri_dau đến vi_tri_cuoi, so sánh x với phần tử ở vị trí giữa danh sách (vi_tri_giua = round((vi_tri_cuoi + vi_tri_dau)/2))\n",
        "2. Nếu x = v[vi_tri_giua], trả về vi_tri_giua\n",
        "3. Nếu x > v[vi_tri_giua], Thực hiện tìm kiếm với vi_tri_cuoi = vi_tri_giua - 1\n",
        "4. Nếu x < v[vi_tri_giua], Thực hiện tìm kiếm với vi_tri_dau = vi_tri_giua + 1\n",
        "5. Trả về -1\n",
        "\n",
        "\n",
        "\n"
      ]
    },
    {
      "cell_type": "code",
      "metadata": {
        "id": "imsrhNHyQJqn",
        "outputId": "cc6e3410-42de-4e8c-a3a4-574af2af886b",
        "colab": {
          "base_uri": "https://localhost:8080/",
          "height": 85
        }
      },
      "source": [
        "# Bài 4: Tìm hiểu thuật toán tìm kiếm nhị phân\n",
        "import random\n",
        "def tao_vector(n):\n",
        "  vector = []\n",
        "  random.seed(1)\n",
        "  for i in range(n):\n",
        "    vector.append(random.randint(-50,50))\n",
        "  return vector\n",
        "\n",
        "def sap_xep_chen_giam_dan(v):\n",
        "  if (len(v) > 1):\n",
        "    for i in range(1, len(v)):\n",
        "      j = i - 1\n",
        "      while j >= 0 and v[j+1] > v[j]:\n",
        "          v[j],v[j+1] = v[j+1],v[j]\n",
        "          j = j - 1\n",
        "  return v\n",
        "\n",
        "def tim_kiem_nhi_phan(x, v, vi_tri_dau, vi_tri_cuoi):\n",
        "  if (vi_tri_cuoi >= vi_tri_dau):\n",
        "    vi_tri_giua = round((vi_tri_cuoi + vi_tri_dau)/2)\n",
        "    if (x > v[vi_tri_giua]):\n",
        "      return tim_kiem_nhi_phan(x, v, vi_tri_dau, vi_tri_giua - 1)\n",
        "    elif (x < v[vi_tri_giua]):\n",
        "      return tim_kiem_nhi_phan(x, v, vi_tri_giua + 1, vi_tri_cuoi)\n",
        "    else:\n",
        "      return vi_tri_giua;\n",
        "  return -1\n",
        "\n",
        "v = tao_vector(20)        \n",
        "print('Danh sách đã tạo: ', v)\n",
        "xap_sep_giam_dan = sap_xep_chen_giam_dan(v)\n",
        "print('Danh sách đã xắp sếp giảm dần: ', xap_sep_giam_dan)\n",
        "x = int(input('Nhập số nguyên cần tìm: '))\n",
        "ket_qua = tim_kiem_nhi_phan(x, xap_sep_giam_dan, 0, len(v) - 1)\n",
        "if (ket_qua < 0):\n",
        "  print('Không tìm thấy')\n",
        "else:\n",
        "  print(f'Số đã nhập được tìm thấy tại vị trí {ket_qua}')"
      ],
      "execution_count": 7,
      "outputs": [
        {
          "output_type": "stream",
          "text": [
            "Danh sách đã tạo:  [-33, 22, 47, -42, -18, -35, 13, 47, 7, 10, 33, -2, 50, -24, -38, 12, -47, -1, 5, 27]\n",
            "Danh sách đã xắp sếp giảm dần:  [50, 47, 47, 33, 27, 22, 13, 12, 10, 7, 5, -1, -2, -18, -24, -33, -35, -38, -42, -47]\n",
            "Nhập số nguyên cần tìm: 12\n",
            "Số đã nhập được tìm thấy tại vị trí 7\n"
          ],
          "name": "stdout"
        }
      ]
    }
  ]
}