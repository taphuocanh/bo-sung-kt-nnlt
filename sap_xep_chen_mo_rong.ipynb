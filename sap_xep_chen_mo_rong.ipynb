{
  "nbformat": 4,
  "nbformat_minor": 0,
  "metadata": {
    "colab": {
      "name": "sap_xep_chen_mo_rong.ipynb",
      "provenance": [],
      "authorship_tag": "ABX9TyPADY/HzWN3l5oWwrMjEYq9",
      "include_colab_link": true
    },
    "kernelspec": {
      "name": "python3",
      "display_name": "Python 3"
    }
  },
  "cells": [
    {
      "cell_type": "markdown",
      "metadata": {
        "id": "view-in-github",
        "colab_type": "text"
      },
      "source": [
        "<a href=\"https://colab.research.google.com/github/taphuocanh/bo-sung-kt-nnlt/blob/main/sap_xep_chen_mo_rong.ipynb\" target=\"_parent\"><img src=\"https://colab.research.google.com/assets/colab-badge.svg\" alt=\"Open In Colab\"/></a>"
      ]
    },
    {
      "cell_type": "code",
      "metadata": {
        "id": "NSWNBAdON5Qt",
        "outputId": "aa5a1fc3-275b-41a6-bdeb-cc6205f1f775",
        "colab": {
          "base_uri": "https://localhost:8080/",
          "height": 204
        }
      },
      "source": [
        "# Bài 2: Sắp xếp Chèn (mở rộng)\n",
        "\n",
        "def tao_vector(n):\n",
        "  vector = []\n",
        "  for i in range(n):\n",
        "    vector.append(int(input(f'Nhập phần tử thứ {i}: ')))\n",
        "  return vector\n",
        "\n",
        "def sap_xep_chen_giam_dan(v):\n",
        "  if (len(v) > 1):\n",
        "    for i in range(1, len(v)):\n",
        "      j = i - 1\n",
        "      while j >= 0 and v[j+1] > v[j]:\n",
        "          v[j],v[j+1] = v[j+1],v[j]\n",
        "          j = j - 1\n",
        "  return v\n",
        "\n",
        "n = 0\n",
        "while (n <= 0):\n",
        "  n = int(input('Nhập số nguyên dương n: '))\n",
        "v = tao_vector(n)        \n",
        "print('Danh sách đã tạo: ', v)\n",
        "xap_sep_giam_dan = sap_xep_chen_giam_dan(v)\n",
        "print('Danh sách đã xắp sếp giảm dần: ', xap_sep_giam_dan)"
      ],
      "execution_count": 2,
      "outputs": [
        {
          "output_type": "stream",
          "text": [
            "Nhập số nguyên dương n: 8\n",
            "Nhập phần tử thứ 0: 9\n",
            "Nhập phần tử thứ 1: -86\n",
            "Nhập phần tử thứ 2: 23\n",
            "Nhập phần tử thứ 3: -7\n",
            "Nhập phần tử thứ 4: 45\n",
            "Nhập phần tử thứ 5: 41\n",
            "Nhập phần tử thứ 6: -49\n",
            "Nhập phần tử thứ 7: 29\n",
            "Danh sách đã tạo:  [9, -86, 23, -7, 45, 41, -49, 29]\n",
            "Danh sách đã xắp sếp giảm dần:  [45, 41, 29, 23, 9, -7, -49, -86]\n"
          ],
          "name": "stdout"
        }
      ]
    }
  ]
}