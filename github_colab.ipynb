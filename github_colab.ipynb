{
  "nbformat": 4,
  "nbformat_minor": 0,
  "metadata": {
    "colab": {
      "name": "github_colab.ipynb",
      "provenance": [],
      "authorship_tag": "ABX9TyPnUqe1dhS7vbYRlxJG9FNu",
      "include_colab_link": true
    },
    "kernelspec": {
      "name": "python3",
      "display_name": "Python 3"
    }
  },
  "cells": [
    {
      "cell_type": "markdown",
      "metadata": {
        "id": "view-in-github",
        "colab_type": "text"
      },
      "source": [
        "<a href=\"https://colab.research.google.com/github/taphuocanh/bo-sung-kt-nnlt/blob/main/github_colab.ipynb\" target=\"_parent\"><img src=\"https://colab.research.google.com/assets/colab-badge.svg\" alt=\"Open In Colab\"/></a>"
      ]
    },
    {
      "cell_type": "markdown",
      "metadata": {
        "id": "wlVjhlrXD27h"
      },
      "source": [
        "**Đây kà chương trình đầu tiên**"
      ]
    },
    {
      "cell_type": "code",
      "metadata": {
        "id": "kKsjF6wuD0l9",
        "outputId": "2ff12d9d-7b99-4d29-eefb-e8e09eb229ba",
        "colab": {
          "base_uri": "https://localhost:8080/",
          "height": 34
        }
      },
      "source": [
        "print(\"Hello Github & Colab\")"
      ],
      "execution_count": 1,
      "outputs": [
        {
          "output_type": "stream",
          "text": [
            "Hello Github & Colab\n"
          ],
          "name": "stdout"
        }
      ]
    }
  ]
}