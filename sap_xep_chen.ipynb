{
  "nbformat": 4,
  "nbformat_minor": 0,
  "metadata": {
    "colab": {
      "name": "sap_xep_chen.ipynb",
      "provenance": [],
      "authorship_tag": "ABX9TyMO7E90y/5DxDM2zwy+T4ca",
      "include_colab_link": true
    },
    "kernelspec": {
      "name": "python3",
      "display_name": "Python 3"
    }
  },
  "cells": [
    {
      "cell_type": "markdown",
      "metadata": {
        "id": "view-in-github",
        "colab_type": "text"
      },
      "source": [
        "<a href=\"https://colab.research.google.com/github/taphuocanh/bo-sung-kt-nnlt/blob/main/sap_xep_chen.ipynb\" target=\"_parent\"><img src=\"https://colab.research.google.com/assets/colab-badge.svg\" alt=\"Open In Colab\"/></a>"
      ]
    },
    {
      "cell_type": "code",
      "metadata": {
        "id": "4mBoakZDHkh1",
        "outputId": "4ef39c17-494e-4dab-c922-58c399780d13",
        "colab": {
          "base_uri": "https://localhost:8080/",
          "height": 68
        }
      },
      "source": [
        "# Sắp xếp chèn\n",
        "\n",
        "import random\n",
        "def tao_vector(n):\n",
        "  vector = []\n",
        "  random.seed(1)\n",
        "  for i in range(n):\n",
        "    vector.append(random.randint(-15,15))\n",
        "  return vector\n",
        "\n",
        "def sap_xep_chen_tang_dan(v):\n",
        "  if (len(v) > 1):\n",
        "    for i in range(1, len(v)):\n",
        "      j = i - 1\n",
        "      while j >= 0 and v[j+1] < v[j]:\n",
        "          v[j],v[j+1] = v[j+1],v[j]\n",
        "          j = j - 1\n",
        "  return v\n",
        "def sap_xep_chen_giam_dan(v):\n",
        "  if (len(v) > 1):\n",
        "    for i in range(1, len(v)):\n",
        "      j = i - 1\n",
        "      while j >= 0 and v[j+1] > v[j]:\n",
        "          v[j],v[j+1] = v[j+1],v[j]\n",
        "          j = j - 1\n",
        "  return v\n",
        "\n",
        "v = tao_vector(15)        \n",
        "print('Danh sách đã tạo: ', v)\n",
        "xap_sep_tang_dan = sap_xep_chen_tang_dan(v)\n",
        "print('Danh sách đã xắp sếp tăng dần: ', xap_sep_tang_dan)\n",
        "xap_sep_giam_dan = sap_xep_chen_giam_dan(v)\n",
        "print('Danh sách đã xắp sếp giảm dần: ', xap_sep_giam_dan)"
      ],
      "execution_count": null,
      "outputs": [
        {
          "output_type": "stream",
          "text": [
            "Danh sách đã tạo:  [-11, 3, 12, 10, 9, -13, -7, -12, 0, 9, -1, 0, 5, -3, 10]\n",
            "Danh sách đã xắp sếp tăng dần:  [-13, -12, -11, -7, -3, -1, 0, 0, 3, 5, 9, 9, 10, 10, 12]\n",
            "Danh sách đã xắp sếp giảm dần:  [12, 10, 10, 9, 9, 5, 3, 0, 0, -1, -3, -7, -11, -12, -13]\n"
          ],
          "name": "stdout"
        }
      ]
    }
  ]
}