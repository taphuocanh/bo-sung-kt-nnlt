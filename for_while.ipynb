{
  "nbformat": 4,
  "nbformat_minor": 0,
  "metadata": {
    "colab": {
      "name": "for-while.ipynb",
      "provenance": [],
      "authorship_tag": "ABX9TyM1uphXH4n0LlxzKFf6ujDn",
      "include_colab_link": true
    },
    "kernelspec": {
      "name": "python3",
      "display_name": "Python 3"
    }
  },
  "cells": [
    {
      "cell_type": "markdown",
      "metadata": {
        "id": "view-in-github",
        "colab_type": "text"
      },
      "source": [
        "<a href=\"https://colab.research.google.com/github/taphuocanh/bo-sung-kt-nnlt/blob/main/for_while.ipynb\" target=\"_parent\"><img src=\"https://colab.research.google.com/assets/colab-badge.svg\" alt=\"Open In Colab\"/></a>"
      ]
    },
    {
      "cell_type": "code",
      "metadata": {
        "id": "h3Xe_LJ6F_ld",
        "outputId": "e02d0431-4e1b-4920-840a-6ccb5440801a",
        "colab": {
          "base_uri": "https://localhost:8080/",
          "height": 255
        }
      },
      "source": [
        "# Bài 1: Câu lệnh lặp For - While\n",
        "def su_dung_for():\n",
        "  n = int(input('Số lần lặp theo for: '))\n",
        "  for i in range(n):\n",
        "    print(\"Welcome to HUET\")\n",
        "  print(\"Đã xong\\n\")\n",
        "su_dung_for()\n",
        "def su_dung_while():\n",
        "  n = int(input('Số lần lặp theo while: '))\n",
        "  count = 0\n",
        "  while(count < n):\n",
        "    print(\"Welcome to HUET\")\n",
        "    count = count + 1\n",
        "  print(\"Đã xong\\n\")\n",
        "su_dung_while()"
      ],
      "execution_count": 3,
      "outputs": [
        {
          "output_type": "stream",
          "text": [
            "Số lần lặp theo for: 3\n",
            "Welcome to HUET\n",
            "Welcome to HUET\n",
            "Welcome to HUET\n",
            "Đã xong\n",
            "\n",
            "Số lần lặp theo while: 5\n",
            "Welcome to HUET\n",
            "Welcome to HUET\n",
            "Welcome to HUET\n",
            "Welcome to HUET\n",
            "Welcome to HUET\n",
            "Đã xong\n",
            "\n"
          ],
          "name": "stdout"
        }
      ]
    }
  ]
}