{
  "nbformat": 4,
  "nbformat_minor": 0,
  "metadata": {
    "colab": {
      "name": "bt_pandas.ipynb",
      "provenance": [],
      "mount_file_id": "11vhXTwdF7WNg5OGZMnRrHBRNX3XruYXl",
      "authorship_tag": "ABX9TyPY6DGJMNQl9em9uCeioiaU",
      "include_colab_link": true
    },
    "kernelspec": {
      "name": "python3",
      "display_name": "Python 3"
    }
  },
  "cells": [
    {
      "cell_type": "markdown",
      "metadata": {
        "id": "view-in-github",
        "colab_type": "text"
      },
      "source": [
        "<a href=\"https://colab.research.google.com/github/taphuocanh/bo-sung-kt-nnlt/blob/main/bt_pandas.ipynb\" target=\"_parent\"><img src=\"https://colab.research.google.com/assets/colab-badge.svg\" alt=\"Open In Colab\"/></a>"
      ]
    },
    {
      "cell_type": "markdown",
      "metadata": {
        "id": "6wo6N-fLqAtK"
      },
      "source": [
        "\n",
        "\n",
        "1.   Tạo 1 file csv có 2 cột dữ liệu số\n",
        "2.   Dùng pandas đọc file excel ở trên vào bộ nhớ\n",
        "3.   Sử dụng các hàm có sẵn của pandas để thực hiện các thao tác sau:\n",
        "     * sắp xếp\n",
        "     * tìm giá trị min/max\n",
        "     * tính các chỉ số thống kê cơ bản\n"
      ]
    },
    {
      "cell_type": "code",
      "metadata": {
        "id": "6qQwJ_03kuw7",
        "outputId": "df1d3f9b-b5eb-426e-d4dd-9e16541e8af9",
        "colab": {
          "base_uri": "https://localhost:8080/",
          "height": 1000
        }
      },
      "source": [
        "import pandas as pd\n",
        "\n",
        "# Đọc dữ liệu từ file csv\n",
        "data = pd.read_csv('/content/drive/My Drive/Book1.csv')\n",
        "\n",
        "# Sắp xếp dữ liệu theo cột Units\n",
        "data_sorted = data.sort_values(by=['Units'])\n",
        "print(\"## Sorted by Units data\")\n",
        "print(data_sorted)\n",
        "\n",
        "# Lấy giá trị min/max của từng cột\n",
        "min = data.min()\n",
        "print(\"## Min\")\n",
        "print(min)\n",
        "max = data.max()\n",
        "print(\"## Max\")\n",
        "print(max)\n",
        "\n",
        "# Tím Mean\n",
        "mean = data.mean()\n",
        "print(\"## Mean\")\n",
        "print(mean)\n",
        "\n",
        "# Tính Median\n",
        "median = data.median()\n",
        "print(\"## Median\")\n",
        "print(median)\n",
        "\n",
        "# Tính Variance\n",
        "variance = data.var()\n",
        "print(\"## Variance\")\n",
        "print(variance)\n",
        "\n",
        "# Tính Variance của cột Units\n",
        "units_var = data.loc[:,\"Units\"].var()\n",
        "print(\"## Variance of Units col\")\n",
        "print(units_var)"
      ],
      "execution_count": 23,
      "outputs": [
        {
          "output_type": "stream",
          "text": [
            "## Sorted by Units data\n",
            "       Item  Units  Unit Cost\n",
            "14     Desk      2     125.00\n",
            "35     Desk      3     275.00\n",
            "24   Binder      4       4.99\n",
            "31     Desk      5     125.00\n",
            "25   Binder      7      19.99\n",
            "36   Pencil      7       1.29\n",
            "40   Binder     11       4.99\n",
            "39   Pencil     14       1.29\n",
            "18      Pen     15      19.99\n",
            "15  Pen Set     16      15.99\n",
            "3       Pen     27      19.99\n",
            "42   Binder     28       4.99\n",
            "16   Binder     28       8.99\n",
            "11   Binder     29       1.99\n",
            "8    Pencil     32       1.99\n",
            "13   Pencil     35       4.99\n",
            "2    Pencil     36       4.99\n",
            "34  Pen Set     42      23.95\n",
            "22   Binder     46       8.99\n",
            "26  Pen Set     50       4.99\n",
            "1    Binder     50      19.99\n",
            "29   Pencil     53       1.29\n",
            "33  Pen Set     55      12.49\n",
            "4    Pencil     56       2.99\n",
            "38   Binder     57      19.99\n",
            "5    Binder     60       4.99\n",
            "9    Binder     60       8.99\n",
            "32  Pen Set     62       4.99\n",
            "17      Pen     64       8.99\n",
            "27   Pencil     66       1.99\n",
            "20   Pencil     67       1.29\n",
            "21  Pen Set     74      15.99\n",
            "6    Pencil     75       1.99\n",
            "37      Pen     76       1.99\n",
            "30   Binder     80       8.99\n",
            "12   Binder     81      19.99\n",
            "23   Binder     87      15.00\n",
            "10   Pencil     90       4.99\n",
            "7    Pencil     90       4.99\n",
            "41   Binder     94      19.99\n",
            "0    Pencil     95       1.99\n",
            "28      Pen     96       4.99\n",
            "19  Pen Set     96       4.99\n",
            "## Min\n",
            "Item         Binder\n",
            "Units             2\n",
            "Unit Cost      1.29\n",
            "dtype: object\n",
            "## Max\n",
            "Item         Pencil\n",
            "Units            96\n",
            "Unit Cost       275\n",
            "dtype: object\n",
            "## Mean\n",
            "Units        49.325581\n",
            "Unit Cost    20.308605\n",
            "dtype: float64\n",
            "## Median\n",
            "Units        53.00\n",
            "Unit Cost     4.99\n",
            "dtype: float64\n",
            "## Variance\n",
            "Units         904.700997\n",
            "Unit Cost    2241.560169\n",
            "dtype: float64\n",
            "## Variance of Units col\n",
            "904.7009966777407\n"
          ],
          "name": "stdout"
        }
      ]
    }
  ]
}