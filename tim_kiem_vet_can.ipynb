{
  "nbformat": 4,
  "nbformat_minor": 0,
  "metadata": {
    "colab": {
      "name": "tim_kiem_vet_can.ipynb",
      "provenance": [],
      "authorship_tag": "ABX9TyMrz6YvLeszLVblWGZOciKx",
      "include_colab_link": true
    },
    "kernelspec": {
      "name": "python3",
      "display_name": "Python 3"
    }
  },
  "cells": [
    {
      "cell_type": "markdown",
      "metadata": {
        "id": "view-in-github",
        "colab_type": "text"
      },
      "source": [
        "<a href=\"https://colab.research.google.com/github/taphuocanh/bo-sung-kt-nnlt/blob/main/tim_kiem_vet_can.ipynb\" target=\"_parent\"><img src=\"https://colab.research.google.com/assets/colab-badge.svg\" alt=\"Open In Colab\"/></a>"
      ]
    },
    {
      "cell_type": "code",
      "metadata": {
        "id": "zreWXktbPvEK",
        "outputId": "716e058b-8d97-4f76-e3b0-cc1316a5a9ae",
        "colab": {
          "base_uri": "https://localhost:8080/",
          "height": 68
        }
      },
      "source": [
        "# Bài 3: Tìm kiếm vét cạn\n",
        "\n",
        "import random\n",
        "def tao_vector(n):\n",
        "  vector = []\n",
        "  random.seed(1)\n",
        "  for i in range(n):\n",
        "    vector.append(random.randint(0,1000))\n",
        "  return vector\n",
        "\n",
        "def tim_kiem_vet_can(x, n): \n",
        "  vi_tri = []\n",
        "  for i in range(len(n)): \n",
        "    if n[i] == x:         \n",
        "      vi_tri.append(i)\n",
        "  if (len(vi_tri) > 0):\n",
        "    print(f'Số nguyên {x} xuất hiện {len(vi_tri)} lần tại các vị trí {vi_tri}.')\n",
        "  else:\n",
        "    print(f'Số nguyên {x} không xuất hiện.')\n",
        "  return;        \n",
        "\n",
        "v = tao_vector(15)\n",
        "print('Vector đã tạo: ', v)\n",
        "N = int(input('Nhập số nguyên cần tìm: '))\n",
        "tim_kiem_vet_can(N, v)"
      ],
      "execution_count": 1,
      "outputs": [
        {
          "output_type": "stream",
          "text": [
            "Vector đã tạo:  [137, 582, 867, 821, 782, 64, 261, 120, 507, 779, 460, 483, 667, 388, 807]\n",
            "Nhập số nguyên cần tìm: 261\n",
            "Số nguyên 261 xuất hiện 1 lần tại các vị trí [6].\n"
          ],
          "name": "stdout"
        }
      ]
    }
  ]
}