{
  "nbformat": 4,
  "nbformat_minor": 0,
  "metadata": {
    "colab": {
      "name": "dem.ipynb",
      "provenance": [],
      "authorship_tag": "ABX9TyP5V2gIwYktOLzXpveOZgNk",
      "include_colab_link": true
    },
    "kernelspec": {
      "name": "python3",
      "display_name": "Python 3"
    }
  },
  "cells": [
    {
      "cell_type": "markdown",
      "metadata": {
        "id": "view-in-github",
        "colab_type": "text"
      },
      "source": [
        "<a href=\"https://colab.research.google.com/github/taphuocanh/bo-sung-kt-nnlt/blob/main/dem.ipynb\" target=\"_parent\"><img src=\"https://colab.research.google.com/assets/colab-badge.svg\" alt=\"Open In Colab\"/></a>"
      ]
    },
    {
      "cell_type": "code",
      "metadata": {
        "id": "rc00IPUuG8Xc",
        "outputId": "9079b60e-d9d2-4a5d-d3ea-d828dc00c290",
        "colab": {
          "base_uri": "https://localhost:8080/",
          "height": 68
        }
      },
      "source": [
        "#Bài 2: Bài toán đếm\n",
        "\n",
        "def tim_vi_tri(N, v): \n",
        "  vi_tri = []\n",
        "  for i in range(len(v)): \n",
        "    if v[i] == N:         \n",
        "      vi_tri.append(i)\n",
        "  if (len(vi_tri) > 0):\n",
        "    print(f'Số nguyên {N} xuất hiện {len(vi_tri)} lần tại các vị trí {vi_tri}.')\n",
        "  else:\n",
        "    print(f'Số nguyên {N} không xuất hiện.')\n",
        "  return;         \n",
        "\n",
        "v = [-11, 3, 12, 10, 9, -13, -7, -12, 0, 9, -1, 0, 5, -3, 10]     \n",
        "print(v)\n",
        "N = int(input('Nhập số nguyên cần tìm: '))                    \n",
        "tim_vi_tri(N, v) "
      ],
      "execution_count": 1,
      "outputs": [
        {
          "output_type": "stream",
          "text": [
            "[-11, 3, 12, 10, 9, -13, -7, -12, 0, 9, -1, 0, 5, -3, 10]\n",
            "Nhập số nguyên cần tìm: 10\n",
            "Số nguyên 10 xuất hiện 2 lần tại các vị trí [3, 14].\n"
          ],
          "name": "stdout"
        }
      ]
    }
  ]
}